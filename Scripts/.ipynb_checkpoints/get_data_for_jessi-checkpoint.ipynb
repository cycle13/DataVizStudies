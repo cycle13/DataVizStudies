{
 "cells": [
  {
   "cell_type": "markdown",
   "metadata": {},
   "source": [
    "# Get Data Prepped\n",
    "Get data prepared in csv files for Jessi"
   ]
  },
  {
   "cell_type": "code",
   "execution_count": 1,
   "metadata": {
    "collapsed": true
   },
   "outputs": [],
   "source": [
    "# for running straight from github repository\n",
    "import sys, os\n",
    "sys.path.append(os.path.join(sys.path[1],'..','..','code'))\n",
    "#print(sys.path)\n",
    "\n",
    "import numpy as np\n",
    "import matplotlib.pyplot as plt\n",
    "\n",
    "from matplotlib.colors import LinearSegmentedColormap\n",
    "import matplotlib.colors as mplc\n",
    "import h5py\n",
    "from scipy import stats\n",
    "import netCDF4 as nc\n",
    "import pandas\n",
    "import time\n",
    "import glob\n",
    "import mpl_toolkits.basemap as bm\n",
    "import warnings\n",
    "import matplotlib\n",
    "warnings.filterwarnings(\"ignore\",category=matplotlib.mplDeprecation)\n",
    "\n"
   ]
  },
  {
   "cell_type": "code",
   "execution_count": 2,
   "metadata": {
    "collapsed": true
   },
   "outputs": [],
   "source": [
    "# colormaps\n",
    "CM = h5py.File('/Users/eabarnes/GoogleDrive/WORK/AUTHORED_MANUSCRIPTS/INPREP/Hartmann_Barnes_2018/python/gradsmap.mat')\n",
    "cm_rgb = np.array(CM['cm_rb'])/255.\n",
    "cm_rgb = np.delete(cm_rgb,[9,10],axis=1)\n",
    "CM.close()\n",
    "cm_rgb = np.swapaxes(cm_rgb,1,0)\n",
    "cmap = LinearSegmentedColormap.from_list('tbk_cmap', cm_rgb, N=14) \n",
    "plt.register_cmap(cmap=cmap)"
   ]
  },
  {
   "cell_type": "code",
   "execution_count": 3,
   "metadata": {
    "collapsed": true
   },
   "outputs": [],
   "source": [
    "def readFiles(loadname):\n",
    "    d = np.load(loadname)\n",
    "    data = d['data']\n",
    "    lats = d['lats']\n",
    "    lons = d['lons']\n",
    "    \n",
    "    return data, lats, lons"
   ]
  },
  {
   "cell_type": "code",
   "execution_count": 4,
   "metadata": {
    "collapsed": true
   },
   "outputs": [],
   "source": [
    "def getRegion(data, lats, lons, lat_bounds, lon_bounds):\n",
    "    ilat = np.squeeze(np.where(np.logical_and(lats >= lat_bounds[0],\n",
    "                                              lats <= lat_bounds[1])))\n",
    "    if(lon_bounds[0] < lon_bounds[1]):\n",
    "        ilon = np.squeeze(np.where(np.logical_and(lons >= lon_bounds[0],\n",
    "                                                  lons <= lon_bounds[1])))\n",
    "    else:\n",
    "        ilon = np.where(lons >= lon_bounds[0])\n",
    "        ilon = np.append(ilon,np.where(lons <= lon_bounds[1]))\n",
    "        ilon = np.squeeze(ilon)\n",
    "    latsReg = lats[ilat]\n",
    "    lonsReg = lons[ilon]\n",
    "    if np.ndim(data) == 3:\n",
    "        dataReg = data[np.ix_(np.arange(0, np.shape(data)[0]), ilat, ilon)]\n",
    "    elif np.ndim(data) == 4:\n",
    "        dataReg = data[np.ix_(np.arange(0, np.shape(data)[0]),\n",
    "                              np.arange(0, np.shape(data)[1]),\n",
    "                              ilat, ilon)]\n",
    "    basemap = bm.Basemap(llcrnrlon=lon_bounds[0], llcrnrlat=lat_bounds[0],\n",
    "                         urcrnrlon=lon_bounds[1],urcrnrlat=lat_bounds[1],\n",
    "                         resolution='l',projection='robin',lon_0=0)\n",
    "\n",
    "    return dataReg, latsReg, lonsReg, basemap"
   ]
  },
  {
   "cell_type": "code",
   "execution_count": 23,
   "metadata": {
    "collapsed": true
   },
   "outputs": [],
   "source": [
    "def drawOnGlobe(basemap, data, lats, lons, cmap, vmin=None, vmax=None):\n",
    "    basemap.drawcoastlines(color='gray', linewidth=0.5)\n",
    "    # basemap.drawparallels(np.arange(-90.,120.,30.))\n",
    "    dshifted, newlons = bm.shiftgrid(180., data, lons, start=False)\n",
    "    lonsmg, latsmg = np.meshgrid(newlons, lats)\n",
    "    x, y = basemap(lonsmg, latsmg)\n",
    "\n",
    "    levels = np.arange(-7.,7.1,.1)\n",
    "    if vmin:\n",
    "        #basemap.pcolormesh(x, y, dshifted, cmap=cmap, vmin=vmin, vmax=vmax)\n",
    "        basemap.contourf(x, y, dshifted, levels=levels, cmap=cmap, vmin=vmin, vmax=vmax)\n",
    "    else:\n",
    "        #basemap.pcolormesh(x, y, dshifted, cmap=cmap)\n",
    "        basemap.contourf(x, y, dshifted, levels=levels, cmap=cmap,extend='both')\n",
    "    \n",
    "    cbar = plt.colorbar(fraction=0.07, pad=0.02,orientation='horizontal',ticks=np.arange(-7.0,8.0,1))\n",
    "    \n",
    "    return cbar"
   ]
  },
  {
   "cell_type": "markdown",
   "metadata": {},
   "source": [
    "## Get Data"
   ]
  },
  {
   "cell_type": "code",
   "execution_count": 6,
   "metadata": {
    "collapsed": true
   },
   "outputs": [],
   "source": [
    "#define options\n",
    "seasons = True\n",
    "season_num = 0"
   ]
  },
  {
   "cell_type": "code",
   "execution_count": 7,
   "metadata": {},
   "outputs": [
    {
     "name": "stdout",
     "output_type": "stream",
     "text": [
      "number of years = 34\n"
     ]
    }
   ],
   "source": [
    "# define constants\n",
    "lat_bounds = (-90,90)\n",
    "lon_bounds = (0,360)\n",
    "\n",
    "if(seasons):\n",
    "    years = np.tile((np.arange(1920,2100)),(4,1))\n",
    "    years = years.flatten(order='F')\n",
    "else:\n",
    "    years = np.arange(1920,2099)\n",
    "\n",
    "year_bounds = (2013,2046)\n",
    "#year_bounds = (1979,2012)\n",
    "num_years = year_bounds[1]-year_bounds[0]+1\n",
    "\n",
    "print('number of years = ' + str(num_years))\n",
    "\n",
    "dpi = 300"
   ]
  },
  {
   "cell_type": "code",
   "execution_count": 8,
   "metadata": {},
   "outputs": [
    {
     "name": "stdout",
     "output_type": "stream",
     "text": [
      "[2013 2014 2015 2016 2017 2018 2019 2020 2021 2022 2023 2024 2025 2026 2027\n",
      " 2028 2029 2030 2031 2032 2033 2034 2035 2036 2037 2038 2039 2040 2041 2042\n",
      " 2043 2044 2045 2046]\n",
      "(40, 34, 120, 240)\n"
     ]
    }
   ],
   "source": [
    "filename = \"/Users/eabarnes/GoogleDrive/WORK/RESEARCH/2018/TOE/data/npz_files/LENS_hist_rcp_TREFHT_seasonalmean_r240x120.npz\"\n",
    "data,lats,lons = readFiles(filename)\n",
    "\n",
    "#grab season\n",
    "data = data[:,season_num::4]\n",
    "years = years[season_num::4]\n",
    "\n",
    "iyear = np.squeeze(np.where(np.logical_and(years>=year_bounds[0],years<=year_bounds[1])))\n",
    "data = data[:,iyear,:,:]\n",
    "print(years[iyear])\n",
    "\n",
    "print(np.shape(data))"
   ]
  },
  {
   "cell_type": "code",
   "execution_count": 9,
   "metadata": {
    "collapsed": true
   },
   "outputs": [],
   "source": [
    "# get basemap ready\n",
    "dataReg, latsReg, lonsReg, basemap = getRegion(data,lats,lons,lat_bounds,lon_bounds)"
   ]
  },
  {
   "cell_type": "markdown",
   "metadata": {},
   "source": [
    "## Process each ensemble member's trends and save figure and csv"
   ]
  },
  {
   "cell_type": "code",
   "execution_count": 10,
   "metadata": {},
   "outputs": [
    {
     "name": "stdout",
     "output_type": "stream",
     "text": [
      "ensemble member = 0\n",
      "ensemble member = 1\n",
      "ensemble member = 2\n"
     ]
    },
    {
     "ename": "KeyboardInterrupt",
     "evalue": "",
     "output_type": "error",
     "traceback": [
      "\u001b[0;31m---------------------------------------------------------------------------\u001b[0m",
      "\u001b[0;31mKeyboardInterrupt\u001b[0m                         Traceback (most recent call last)",
      "\u001b[0;32m<ipython-input-10-147bf98cdcf7>\u001b[0m in \u001b[0;36m<module>\u001b[0;34m()\u001b[0m\n\u001b[1;32m      9\u001b[0m         \u001b[0;32mfor\u001b[0m \u001b[0milons\u001b[0m \u001b[0;32min\u001b[0m \u001b[0mnp\u001b[0m\u001b[0;34m.\u001b[0m\u001b[0marange\u001b[0m\u001b[0;34m(\u001b[0m\u001b[0;36m0\u001b[0m\u001b[0;34m,\u001b[0m\u001b[0mnp\u001b[0m\u001b[0;34m.\u001b[0m\u001b[0msize\u001b[0m\u001b[0;34m(\u001b[0m\u001b[0mdata\u001b[0m\u001b[0;34m,\u001b[0m\u001b[0;36m3\u001b[0m\u001b[0;34m)\u001b[0m\u001b[0;34m)\u001b[0m\u001b[0;34m:\u001b[0m\u001b[0;34m\u001b[0m\u001b[0m\n\u001b[1;32m     10\u001b[0m             \u001b[0my\u001b[0m \u001b[0;34m=\u001b[0m \u001b[0mdata\u001b[0m\u001b[0;34m[\u001b[0m\u001b[0mens\u001b[0m\u001b[0;34m,\u001b[0m\u001b[0;34m:\u001b[0m\u001b[0;34m,\u001b[0m\u001b[0milat\u001b[0m\u001b[0;34m,\u001b[0m\u001b[0milons\u001b[0m\u001b[0;34m]\u001b[0m\u001b[0;34m\u001b[0m\u001b[0m\n\u001b[0;32m---> 11\u001b[0;31m             \u001b[0mslope\u001b[0m\u001b[0;34m,\u001b[0m \u001b[0mintercept\u001b[0m\u001b[0;34m,\u001b[0m \u001b[0mr_value\u001b[0m\u001b[0;34m,\u001b[0m \u001b[0mp_value\u001b[0m\u001b[0;34m,\u001b[0m \u001b[0mstd_err\u001b[0m \u001b[0;34m=\u001b[0m \u001b[0mstats\u001b[0m\u001b[0;34m.\u001b[0m\u001b[0mlinregress\u001b[0m\u001b[0;34m(\u001b[0m\u001b[0mnp\u001b[0m\u001b[0;34m.\u001b[0m\u001b[0marange\u001b[0m\u001b[0;34m(\u001b[0m\u001b[0;36m0\u001b[0m\u001b[0;34m,\u001b[0m\u001b[0mnp\u001b[0m\u001b[0;34m.\u001b[0m\u001b[0msize\u001b[0m\u001b[0;34m(\u001b[0m\u001b[0mdata\u001b[0m\u001b[0;34m,\u001b[0m\u001b[0;36m1\u001b[0m\u001b[0;34m)\u001b[0m\u001b[0;34m)\u001b[0m\u001b[0;34m,\u001b[0m\u001b[0my\u001b[0m\u001b[0;34m)\u001b[0m\u001b[0;34m\u001b[0m\u001b[0m\n\u001b[0m\u001b[1;32m     12\u001b[0m             \u001b[0mtrend_data\u001b[0m\u001b[0;34m[\u001b[0m\u001b[0mens\u001b[0m\u001b[0;34m,\u001b[0m\u001b[0milat\u001b[0m\u001b[0;34m,\u001b[0m\u001b[0milons\u001b[0m\u001b[0;34m]\u001b[0m \u001b[0;34m=\u001b[0m \u001b[0mslope\u001b[0m\u001b[0;34m\u001b[0m\u001b[0m\n\u001b[1;32m     13\u001b[0m \u001b[0;34m\u001b[0m\u001b[0m\n",
      "\u001b[0;32m~/anaconda3/lib/python3.6/site-packages/scipy/stats/_stats_mstats_common.py\u001b[0m in \u001b[0;36mlinregress\u001b[0;34m(x, y)\u001b[0m\n\u001b[1;32m     90\u001b[0m \u001b[0;34m\u001b[0m\u001b[0m\n\u001b[1;32m     91\u001b[0m     \u001b[0;31m# average sum of squares:\u001b[0m\u001b[0;34m\u001b[0m\u001b[0;34m\u001b[0m\u001b[0m\n\u001b[0;32m---> 92\u001b[0;31m     \u001b[0mssxm\u001b[0m\u001b[0;34m,\u001b[0m \u001b[0mssxym\u001b[0m\u001b[0;34m,\u001b[0m \u001b[0mssyxm\u001b[0m\u001b[0;34m,\u001b[0m \u001b[0mssym\u001b[0m \u001b[0;34m=\u001b[0m \u001b[0mnp\u001b[0m\u001b[0;34m.\u001b[0m\u001b[0mcov\u001b[0m\u001b[0;34m(\u001b[0m\u001b[0mx\u001b[0m\u001b[0;34m,\u001b[0m \u001b[0my\u001b[0m\u001b[0;34m,\u001b[0m \u001b[0mbias\u001b[0m\u001b[0;34m=\u001b[0m\u001b[0;36m1\u001b[0m\u001b[0;34m)\u001b[0m\u001b[0;34m.\u001b[0m\u001b[0mflat\u001b[0m\u001b[0;34m\u001b[0m\u001b[0m\n\u001b[0m\u001b[1;32m     93\u001b[0m     \u001b[0mr_num\u001b[0m \u001b[0;34m=\u001b[0m \u001b[0mssxym\u001b[0m\u001b[0;34m\u001b[0m\u001b[0m\n\u001b[1;32m     94\u001b[0m     \u001b[0mr_den\u001b[0m \u001b[0;34m=\u001b[0m \u001b[0mnp\u001b[0m\u001b[0;34m.\u001b[0m\u001b[0msqrt\u001b[0m\u001b[0;34m(\u001b[0m\u001b[0mssxm\u001b[0m \u001b[0;34m*\u001b[0m \u001b[0mssym\u001b[0m\u001b[0;34m)\u001b[0m\u001b[0;34m\u001b[0m\u001b[0m\n",
      "\u001b[0;32m~/anaconda3/lib/python3.6/site-packages/numpy/lib/function_base.py\u001b[0m in \u001b[0;36mcov\u001b[0;34m(m, y, rowvar, bias, ddof, fweights, aweights)\u001b[0m\n\u001b[1;32m   3090\u001b[0m     \u001b[0;32melse\u001b[0m\u001b[0;34m:\u001b[0m\u001b[0;34m\u001b[0m\u001b[0m\n\u001b[1;32m   3091\u001b[0m         \u001b[0mX_T\u001b[0m \u001b[0;34m=\u001b[0m \u001b[0;34m(\u001b[0m\u001b[0mX\u001b[0m\u001b[0;34m*\u001b[0m\u001b[0mw\u001b[0m\u001b[0;34m)\u001b[0m\u001b[0;34m.\u001b[0m\u001b[0mT\u001b[0m\u001b[0;34m\u001b[0m\u001b[0m\n\u001b[0;32m-> 3092\u001b[0;31m     \u001b[0mc\u001b[0m \u001b[0;34m=\u001b[0m \u001b[0mdot\u001b[0m\u001b[0;34m(\u001b[0m\u001b[0mX\u001b[0m\u001b[0;34m,\u001b[0m \u001b[0mX_T\u001b[0m\u001b[0;34m.\u001b[0m\u001b[0mconj\u001b[0m\u001b[0;34m(\u001b[0m\u001b[0;34m)\u001b[0m\u001b[0;34m)\u001b[0m\u001b[0;34m\u001b[0m\u001b[0m\n\u001b[0m\u001b[1;32m   3093\u001b[0m     \u001b[0mc\u001b[0m \u001b[0;34m*=\u001b[0m \u001b[0;36m1.\u001b[0m \u001b[0;34m/\u001b[0m \u001b[0mnp\u001b[0m\u001b[0;34m.\u001b[0m\u001b[0mfloat64\u001b[0m\u001b[0;34m(\u001b[0m\u001b[0mfact\u001b[0m\u001b[0;34m)\u001b[0m\u001b[0;34m\u001b[0m\u001b[0m\n\u001b[1;32m   3094\u001b[0m     \u001b[0;32mreturn\u001b[0m \u001b[0mc\u001b[0m\u001b[0;34m.\u001b[0m\u001b[0msqueeze\u001b[0m\u001b[0;34m(\u001b[0m\u001b[0;34m)\u001b[0m\u001b[0;34m\u001b[0m\u001b[0m\n",
      "\u001b[0;31mKeyboardInterrupt\u001b[0m: "
     ]
    }
   ],
   "source": [
    "#calculate trends\n",
    "num_years = np.size(data,1)\n",
    "trend_data = np.empty((np.size(data,0),np.size(data,2),np.size(data,3)))\n",
    "\n",
    "for ens in np.arange(0,np.size(data,0)):\n",
    "    print('ensemble member = ' + str(ens))\n",
    "    \n",
    "    for ilat in np.arange(0,np.size(data,2)):\n",
    "        for ilons in np.arange(0,np.size(data,3)):\n",
    "            y = data[ens,:,ilat,ilons]\n",
    "            slope, intercept, r_value, p_value, std_err = stats.linregress(np.arange(0,np.size(data,1)),y)\n",
    "            trend_data[ens,ilat,ilons] = slope\n",
    "                        \n",
    "    #plot the results\n",
    "    trend_plot = trend_data[ens,:,:]*num_years\n",
    "    plt.figure()\n",
    "    cbar = drawOnGlobe(basemap,trend_plot,lats,lons,cmap=cmap)\n",
    "    plt.annotate(str(ens+1), xy=(.05, .95), xycoords='axes fraction')\n",
    "    cbar.set_label(str(year_bounds[0]) + '-' + str(year_bounds[1]) + ' DJF surface air temperature trends (K/' + str(num_years) + ' years)')\n",
    "    #plt.savefig('figures/data_trend_ensmember_' + str(ens+1) + '.png', dpi=dpi, format='png', frameon=False, bbox_inches='tight')\n",
    "    #plt.show()\n",
    "    plt.close()\n",
    "\n",
    "    # save to csv file\n",
    "    #np.savetxt('csv_files/data_trend_ensmember_' + str(ens+1) + '.csv', np.flipud(trend_plot), fmt='%.18f', delimiter=',', newline='\\n')"
   ]
  },
  {
   "cell_type": "markdown",
   "metadata": {},
   "source": [
    "## Process ensemble MEAN"
   ]
  },
  {
   "cell_type": "code",
   "execution_count": 11,
   "metadata": {},
   "outputs": [
    {
     "data": {
      "image/png": "[encoded data removed]",
      "text/plain": [
       "<Figure size 432x288 with 2 Axes>"
      ]
     },
     "metadata": {},
     "output_type": "display_data"
    }
   ],
   "source": [
    "#calculate trends\n",
    "num_years = np.size(data,1)\n",
    "trend_data_em = np.empty((np.size(data,2),np.size(data,3)))\n",
    "\n",
    "grid_lat = np.empty((np.size(data,2),np.size(data,3)))\n",
    "grid_lons = np.empty((np.size(data,2),np.size(data,3)))\n",
    "\n",
    "data_em = np.squeeze(np.mean(data,0))\n",
    "\n",
    "for ilat in np.arange(0,np.size(data,2)):\n",
    "    for ilons in np.arange(0,np.size(data,3)):\n",
    "        y = data_em[:,ilat,ilons]\n",
    "        slope, intercept, r_value, p_value, std_err = stats.linregress(np.arange(0,np.size(data_em,0)),y)\n",
    "        trend_data_em[ilat,ilons] = slope\n",
    "        \n",
    "        grid_lat[ilat,ilons] = lats[ilat]\n",
    "        grid_lons[ilat,ilons] = lons[ilons]\n",
    "            \n",
    "\n",
    "#plot the results\n",
    "trend_plot = trend_data_em[:,:]*num_years\n",
    "plt.figure()\n",
    "cbar = drawOnGlobe(basemap,trend_plot,lats,lons,cmap=cmap)\n",
    "plt.annotate('EM', xy=(.05, .95), xycoords='axes fraction')\n",
    "cbar.set_label(str(year_bounds[0]) + '-' + str(year_bounds[1]) + ' DJF surface air temperature trends (K/' + str(num_years) + ' years)')\n",
    "plt.savefig('figures/data_trend_ensmean.png', dpi=dpi, format='png', frameon=False, bbox_inches='tight')\n",
    "plt.show()\n",
    "plt.close()\n",
    "\n",
    "# save to csv file\n",
    "np.savetxt('csv_files/data_trend_ensmean.csv', np.flipud(trend_plot), fmt='%.18f', delimiter=',', newline='\\n')\n",
    "np.savetxt('csv_files/grid_lats.csv', np.flipud(grid_lat), fmt='%.18f', delimiter=',', newline='\\n')\n",
    "np.savetxt('csv_files/grid_lons.csv', np.flipud(grid_lons), fmt='%.18f', delimiter=',', newline='\\n')"
   ]
  }
 ],
 "metadata": {
  "kernelspec": {
   "display_name": "Python 3",
   "language": "python",
   "name": "python3"
  },
  "language_info": {
   "codemirror_mode": {
    "name": "ipython",
    "version": 3
   },
   "file_extension": ".py",
   "mimetype": "text/x-python",
   "name": "python",
   "nbconvert_exporter": "python",
   "pygments_lexer": "ipython3",
   "version": "3.7.6"
  }
 },
 "nbformat": 4,
 "nbformat_minor": 2
}
